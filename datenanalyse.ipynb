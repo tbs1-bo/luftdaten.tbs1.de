{
 "cells": [
  {
   "cell_type": "markdown",
   "metadata": {},
   "source": [
    "SQL-Extension. Muss ggf. mit `pip install ipython-sql` installiert werden."
   ]
  },
  {
   "cell_type": "code",
   "execution_count": 1,
   "metadata": {},
   "outputs": [],
   "source": [
    "%load_ext sql"
   ]
  },
  {
   "cell_type": "markdown",
   "metadata": {},
   "source": [
    "Mit DB verbinden."
   ]
  },
  {
   "cell_type": "code",
   "execution_count": 2,
   "metadata": {},
   "outputs": [],
   "source": [
    "%sql sqlite:///sensordata.db"
   ]
  },
  {
   "cell_type": "markdown",
   "metadata": {},
   "source": [
    "Ausschnitt der beiden wichtigen Views"
   ]
  },
  {
   "cell_type": "code",
   "execution_count": 14,
   "metadata": {},
   "outputs": [
    {
     "name": "stdout",
     "output_type": "stream",
     "text": [
      " * sqlite:///sensordata.db\n",
      "Done.\n"
     ]
    },
    {
     "data": {
      "text/html": [
       "<table>\n",
       "    <tr>\n",
       "        <th>year</th>\n",
       "        <th>month</th>\n",
       "        <th>day</th>\n",
       "        <th>hour</th>\n",
       "        <th>minute</th>\n",
       "        <th>temperature</th>\n",
       "        <th>humidity</th>\n",
       "    </tr>\n",
       "    <tr>\n",
       "        <td>2017</td>\n",
       "        <td>6</td>\n",
       "        <td>21</td>\n",
       "        <td>11</td>\n",
       "        <td>47</td>\n",
       "        <td>26.4</td>\n",
       "        <td>54.1</td>\n",
       "    </tr>\n",
       "    <tr>\n",
       "        <td>2017</td>\n",
       "        <td>6</td>\n",
       "        <td>21</td>\n",
       "        <td>11</td>\n",
       "        <td>50</td>\n",
       "        <td>26.6</td>\n",
       "        <td>50.2</td>\n",
       "    </tr>\n",
       "    <tr>\n",
       "        <td>2017</td>\n",
       "        <td>6</td>\n",
       "        <td>21</td>\n",
       "        <td>11</td>\n",
       "        <td>52</td>\n",
       "        <td>26.7</td>\n",
       "        <td>50.1</td>\n",
       "    </tr>\n",
       "    <tr>\n",
       "        <td>2017</td>\n",
       "        <td>6</td>\n",
       "        <td>21</td>\n",
       "        <td>11</td>\n",
       "        <td>55</td>\n",
       "        <td>26.9</td>\n",
       "        <td>49.8</td>\n",
       "    </tr>\n",
       "    <tr>\n",
       "        <td>2017</td>\n",
       "        <td>6</td>\n",
       "        <td>21</td>\n",
       "        <td>11</td>\n",
       "        <td>57</td>\n",
       "        <td>27.0</td>\n",
       "        <td>50.0</td>\n",
       "    </tr>\n",
       "</table>"
      ],
      "text/plain": [
       "[(2017, 6, 21, 11, 47, 26.4, 54.1),\n",
       " (2017, 6, 21, 11, 50, 26.6, 50.2),\n",
       " (2017, 6, 21, 11, 52, 26.7, 50.1),\n",
       " (2017, 6, 21, 11, 55, 26.9, 49.8),\n",
       " (2017, 6, 21, 11, 57, 27.0, 50.0)]"
      ]
     },
     "execution_count": 14,
     "metadata": {},
     "output_type": "execute_result"
    }
   ],
   "source": [
    "%%sql \n",
    "select * \n",
    "from temp_hum_view \n",
    "limit 5"
   ]
  },
  {
   "cell_type": "code",
   "execution_count": 15,
   "metadata": {},
   "outputs": [
    {
     "name": "stdout",
     "output_type": "stream",
     "text": [
      " * sqlite:///sensordata.db\n",
      "Done.\n"
     ]
    },
    {
     "data": {
      "text/html": [
       "<table>\n",
       "    <tr>\n",
       "        <th>year</th>\n",
       "        <th>month</th>\n",
       "        <th>day</th>\n",
       "        <th>hour</th>\n",
       "        <th>minute</th>\n",
       "        <th>P1</th>\n",
       "        <th>P2</th>\n",
       "    </tr>\n",
       "    <tr>\n",
       "        <td>2017</td>\n",
       "        <td>6</td>\n",
       "        <td>21</td>\n",
       "        <td>11</td>\n",
       "        <td>47</td>\n",
       "        <td>12.23</td>\n",
       "        <td>3.35</td>\n",
       "    </tr>\n",
       "    <tr>\n",
       "        <td>2017</td>\n",
       "        <td>6</td>\n",
       "        <td>21</td>\n",
       "        <td>11</td>\n",
       "        <td>50</td>\n",
       "        <td>3.1</td>\n",
       "        <td>2.7</td>\n",
       "    </tr>\n",
       "    <tr>\n",
       "        <td>2017</td>\n",
       "        <td>6</td>\n",
       "        <td>21</td>\n",
       "        <td>11</td>\n",
       "        <td>52</td>\n",
       "        <td>4.03</td>\n",
       "        <td>2.6</td>\n",
       "    </tr>\n",
       "    <tr>\n",
       "        <td>2017</td>\n",
       "        <td>6</td>\n",
       "        <td>21</td>\n",
       "        <td>11</td>\n",
       "        <td>55</td>\n",
       "        <td>5.97</td>\n",
       "        <td>2.5</td>\n",
       "    </tr>\n",
       "    <tr>\n",
       "        <td>2017</td>\n",
       "        <td>6</td>\n",
       "        <td>21</td>\n",
       "        <td>11</td>\n",
       "        <td>57</td>\n",
       "        <td>5.8</td>\n",
       "        <td>2.67</td>\n",
       "    </tr>\n",
       "</table>"
      ],
      "text/plain": [
       "[(2017, 6, 21, 11, 47, 12.23, 3.35),\n",
       " (2017, 6, 21, 11, 50, 3.1, 2.7),\n",
       " (2017, 6, 21, 11, 52, 4.03, 2.6),\n",
       " (2017, 6, 21, 11, 55, 5.97, 2.5),\n",
       " (2017, 6, 21, 11, 57, 5.8, 2.67)]"
      ]
     },
     "execution_count": 15,
     "metadata": {},
     "output_type": "execute_result"
    }
   ],
   "source": [
    "%%sql \n",
    "select * \n",
    "from feinstaub_view \n",
    "limit 5"
   ]
  },
  {
   "cell_type": "markdown",
   "metadata": {},
   "source": [
    "Ein wenig Statistik"
   ]
  },
  {
   "cell_type": "code",
   "execution_count": 16,
   "metadata": {},
   "outputs": [
    {
     "name": "stdout",
     "output_type": "stream",
     "text": [
      " * sqlite:///sensordata.db\n",
      "Done.\n"
     ]
    },
    {
     "data": {
      "text/html": [
       "<table>\n",
       "    <tr>\n",
       "        <th>count(*)</th>\n",
       "    </tr>\n",
       "    <tr>\n",
       "        <td>644474</td>\n",
       "    </tr>\n",
       "</table>"
      ],
      "text/plain": [
       "[(644474,)]"
      ]
     },
     "execution_count": 16,
     "metadata": {},
     "output_type": "execute_result"
    }
   ],
   "source": [
    "%sql select count(*) from temp_hum_view"
   ]
  },
  {
   "cell_type": "markdown",
   "metadata": {},
   "source": [
    "Durchschnittstemperaturen"
   ]
  },
  {
   "cell_type": "code",
   "execution_count": 17,
   "metadata": {},
   "outputs": [
    {
     "name": "stdout",
     "output_type": "stream",
     "text": [
      " * sqlite:///sensordata.db\n",
      "Done.\n"
     ]
    },
    {
     "data": {
      "text/html": [
       "<table>\n",
       "    <tr>\n",
       "        <th>avg(temperature)</th>\n",
       "    </tr>\n",
       "    <tr>\n",
       "        <td>13.321666040834089</td>\n",
       "    </tr>\n",
       "</table>"
      ],
      "text/plain": [
       "[(13.321666040834089,)]"
      ]
     },
     "execution_count": 17,
     "metadata": {},
     "output_type": "execute_result"
    }
   ],
   "source": [
    "%sql select avg(temperature) from temp_hum_view"
   ]
  },
  {
   "cell_type": "code",
   "execution_count": 7,
   "metadata": {},
   "outputs": [
    {
     "name": "stdout",
     "output_type": "stream",
     "text": [
      " * sqlite:///sensordata.db\n",
      "Done.\n"
     ]
    },
    {
     "data": {
      "text/html": [
       "<table>\n",
       "    <tr>\n",
       "        <th>year</th>\n",
       "        <th>avg(temperature)</th>\n",
       "    </tr>\n",
       "    <tr>\n",
       "        <td>2017</td>\n",
       "        <td>15.181615616136742</td>\n",
       "    </tr>\n",
       "    <tr>\n",
       "        <td>2018</td>\n",
       "        <td>14.410804213023562</td>\n",
       "    </tr>\n",
       "    <tr>\n",
       "        <td>2019</td>\n",
       "        <td>13.899668565048922</td>\n",
       "    </tr>\n",
       "    <tr>\n",
       "        <td>2020</td>\n",
       "        <td>12.049424730164592</td>\n",
       "    </tr>\n",
       "    <tr>\n",
       "        <td>2021</td>\n",
       "        <td>5.777783551068852</td>\n",
       "    </tr>\n",
       "</table>"
      ],
      "text/plain": [
       "[(2017, 15.181615616136742),\n",
       " (2018, 14.410804213023562),\n",
       " (2019, 13.899668565048922),\n",
       " (2020, 12.049424730164592),\n",
       " (2021, 5.777783551068852)]"
      ]
     },
     "execution_count": 7,
     "metadata": {},
     "output_type": "execute_result"
    }
   ],
   "source": [
    "%%sql \n",
    "select year,avg(temperature) \n",
    "from temp_hum_view \n",
    "group by year"
   ]
  },
  {
   "cell_type": "code",
   "execution_count": 18,
   "metadata": {},
   "outputs": [
    {
     "name": "stdout",
     "output_type": "stream",
     "text": [
      " * sqlite:///sensordata.db\n",
      "Done.\n"
     ]
    },
    {
     "data": {
      "text/html": [
       "<table>\n",
       "    <tr>\n",
       "        <th>year</th>\n",
       "        <th>month</th>\n",
       "        <th>avg(temperature)</th>\n",
       "    </tr>\n",
       "    <tr>\n",
       "        <td>2020</td>\n",
       "        <td>1</td>\n",
       "        <td>7.130253766851689</td>\n",
       "    </tr>\n",
       "    <tr>\n",
       "        <td>2020</td>\n",
       "        <td>2</td>\n",
       "        <td>8.273431148373982</td>\n",
       "    </tr>\n",
       "    <tr>\n",
       "        <td>2020</td>\n",
       "        <td>3</td>\n",
       "        <td>9.460176256465953</td>\n",
       "    </tr>\n",
       "    <tr>\n",
       "        <td>2020</td>\n",
       "        <td>4</td>\n",
       "        <td>15.878210610717574</td>\n",
       "    </tr>\n",
       "    <tr>\n",
       "        <td>2020</td>\n",
       "        <td>5</td>\n",
       "        <td>16.109047422193356</td>\n",
       "    </tr>\n",
       "    <tr>\n",
       "        <td>2020</td>\n",
       "        <td>6</td>\n",
       "        <td>20.19452819188813</td>\n",
       "    </tr>\n",
       "    <tr>\n",
       "        <td>2020</td>\n",
       "        <td>9</td>\n",
       "        <td>17.94297035515117</td>\n",
       "    </tr>\n",
       "    <tr>\n",
       "        <td>2020</td>\n",
       "        <td>10</td>\n",
       "        <td>13.30224880040104</td>\n",
       "    </tr>\n",
       "    <tr>\n",
       "        <td>2020</td>\n",
       "        <td>11</td>\n",
       "        <td>11.522822614251933</td>\n",
       "    </tr>\n",
       "    <tr>\n",
       "        <td>2020</td>\n",
       "        <td>12</td>\n",
       "        <td>7.165300489891687</td>\n",
       "    </tr>\n",
       "</table>"
      ],
      "text/plain": [
       "[(2020, 1, 7.130253766851689),\n",
       " (2020, 2, 8.273431148373982),\n",
       " (2020, 3, 9.460176256465953),\n",
       " (2020, 4, 15.878210610717574),\n",
       " (2020, 5, 16.109047422193356),\n",
       " (2020, 6, 20.19452819188813),\n",
       " (2020, 9, 17.94297035515117),\n",
       " (2020, 10, 13.30224880040104),\n",
       " (2020, 11, 11.522822614251933),\n",
       " (2020, 12, 7.165300489891687)]"
      ]
     },
     "execution_count": 18,
     "metadata": {},
     "output_type": "execute_result"
    }
   ],
   "source": [
    "%%sql \n",
    "select year,month,avg(temperature) \n",
    "from temp_hum_view \n",
    "where year=2020\n",
    "group by year,month"
   ]
  },
  {
   "cell_type": "markdown",
   "metadata": {},
   "source": [
    "Höchstwerte"
   ]
  },
  {
   "cell_type": "code",
   "execution_count": 19,
   "metadata": {},
   "outputs": [
    {
     "name": "stdout",
     "output_type": "stream",
     "text": [
      " * sqlite:///sensordata.db\n",
      "Done.\n"
     ]
    },
    {
     "data": {
      "text/html": [
       "<table>\n",
       "    <tr>\n",
       "        <th>Höchsttemperatur</th>\n",
       "    </tr>\n",
       "    <tr>\n",
       "        <td>50.6</td>\n",
       "    </tr>\n",
       "</table>"
      ],
      "text/plain": [
       "[(50.6,)]"
      ]
     },
     "execution_count": 19,
     "metadata": {},
     "output_type": "execute_result"
    }
   ],
   "source": [
    "%%sql \n",
    "select max(temperature) as \"Höchsttemperatur\"\n",
    "from temp_hum_view"
   ]
  },
  {
   "cell_type": "markdown",
   "metadata": {},
   "source": [
    "Wann wurde diese Temperatur erreicht?"
   ]
  },
  {
   "cell_type": "code",
   "execution_count": 20,
   "metadata": {},
   "outputs": [
    {
     "name": "stdout",
     "output_type": "stream",
     "text": [
      " * sqlite:///sensordata.db\n",
      "Done.\n"
     ]
    },
    {
     "data": {
      "text/html": [
       "<table>\n",
       "    <tr>\n",
       "        <th>year</th>\n",
       "        <th>month</th>\n",
       "        <th>day</th>\n",
       "        <th>hour</th>\n",
       "        <th>minute</th>\n",
       "        <th>temperature</th>\n",
       "        <th>humidity</th>\n",
       "    </tr>\n",
       "    <tr>\n",
       "        <td>2019</td>\n",
       "        <td>7</td>\n",
       "        <td>25</td>\n",
       "        <td>12</td>\n",
       "        <td>10</td>\n",
       "        <td>50.6</td>\n",
       "        <td>42.1</td>\n",
       "    </tr>\n",
       "    <tr>\n",
       "        <td>2019</td>\n",
       "        <td>7</td>\n",
       "        <td>25</td>\n",
       "        <td>12</td>\n",
       "        <td>13</td>\n",
       "        <td>50.6</td>\n",
       "        <td>40.6</td>\n",
       "    </tr>\n",
       "    <tr>\n",
       "        <td>2019</td>\n",
       "        <td>7</td>\n",
       "        <td>25</td>\n",
       "        <td>12</td>\n",
       "        <td>18</td>\n",
       "        <td>50.6</td>\n",
       "        <td>38.3</td>\n",
       "    </tr>\n",
       "</table>"
      ],
      "text/plain": [
       "[(2019, 7, 25, 12, 10, 50.6, 42.1),\n",
       " (2019, 7, 25, 12, 13, 50.6, 40.6),\n",
       " (2019, 7, 25, 12, 18, 50.6, 38.3)]"
      ]
     },
     "execution_count": 20,
     "metadata": {},
     "output_type": "execute_result"
    }
   ],
   "source": [
    "%%sql \n",
    "select *\n",
    "from temp_hum_view\n",
    "where temperature = \n",
    "(\n",
    "    select max(temperature) \n",
    "    from temp_hum_view \n",
    ")"
   ]
  },
  {
   "cell_type": "markdown",
   "metadata": {},
   "source": [
    "Das gleiche für die tiefsten Temperaturen."
   ]
  },
  {
   "cell_type": "code",
   "execution_count": 21,
   "metadata": {},
   "outputs": [
    {
     "name": "stdout",
     "output_type": "stream",
     "text": [
      " * sqlite:///sensordata.db\n",
      "Done.\n"
     ]
    },
    {
     "data": {
      "text/html": [
       "<table>\n",
       "    <tr>\n",
       "        <th>Tiefsttemperatur</th>\n",
       "    </tr>\n",
       "    <tr>\n",
       "        <td>-9.7</td>\n",
       "    </tr>\n",
       "</table>"
      ],
      "text/plain": [
       "[(-9.7,)]"
      ]
     },
     "execution_count": 21,
     "metadata": {},
     "output_type": "execute_result"
    }
   ],
   "source": [
    "%%sql \n",
    "select min(temperature) as \"Tiefsttemperatur\"\n",
    "from temp_hum_view"
   ]
  },
  {
   "cell_type": "code",
   "execution_count": 12,
   "metadata": {},
   "outputs": [
    {
     "name": "stdout",
     "output_type": "stream",
     "text": [
      " * sqlite:///sensordata.db\n",
      "Done.\n"
     ]
    },
    {
     "data": {
      "text/html": [
       "<table>\n",
       "    <tr>\n",
       "        <th>year</th>\n",
       "        <th>month</th>\n",
       "        <th>day</th>\n",
       "        <th>hour</th>\n",
       "        <th>minute</th>\n",
       "        <th>temperature</th>\n",
       "        <th>humidity</th>\n",
       "    </tr>\n",
       "    <tr>\n",
       "        <td>2021</td>\n",
       "        <td>2</td>\n",
       "        <td>12</td>\n",
       "        <td>6</td>\n",
       "        <td>54</td>\n",
       "        <td>-9.7</td>\n",
       "        <td>99.9</td>\n",
       "    </tr>\n",
       "    <tr>\n",
       "        <td>2021</td>\n",
       "        <td>2</td>\n",
       "        <td>12</td>\n",
       "        <td>6</td>\n",
       "        <td>56</td>\n",
       "        <td>-9.7</td>\n",
       "        <td>99.9</td>\n",
       "    </tr>\n",
       "    <tr>\n",
       "        <td>2021</td>\n",
       "        <td>2</td>\n",
       "        <td>12</td>\n",
       "        <td>6</td>\n",
       "        <td>59</td>\n",
       "        <td>-9.7</td>\n",
       "        <td>99.9</td>\n",
       "    </tr>\n",
       "    <tr>\n",
       "        <td>2021</td>\n",
       "        <td>2</td>\n",
       "        <td>12</td>\n",
       "        <td>7</td>\n",
       "        <td>1</td>\n",
       "        <td>-9.7</td>\n",
       "        <td>99.9</td>\n",
       "    </tr>\n",
       "</table>"
      ],
      "text/plain": [
       "[(2021, 2, 12, 6, 54, -9.7, 99.9),\n",
       " (2021, 2, 12, 6, 56, -9.7, 99.9),\n",
       " (2021, 2, 12, 6, 59, -9.7, 99.9),\n",
       " (2021, 2, 12, 7, 1, -9.7, 99.9)]"
      ]
     },
     "execution_count": 12,
     "metadata": {},
     "output_type": "execute_result"
    }
   ],
   "source": [
    "%%sql \n",
    "select *\n",
    "from temp_hum_view\n",
    "where temperature = \n",
    "(\n",
    "    select min(temperature) \n",
    "    from temp_hum_view \n",
    ")"
   ]
  },
  {
   "cell_type": "markdown",
   "metadata": {},
   "source": [
    "Wieviele Messungen im Jahr lagen jeweils in den 1% der höchsten \n",
    "gemessenen Temperaturen?"
   ]
  },
  {
   "cell_type": "code",
   "execution_count": 13,
   "metadata": {},
   "outputs": [
    {
     "name": "stdout",
     "output_type": "stream",
     "text": [
      " * sqlite:///sensordata.db\n",
      "Done.\n"
     ]
    },
    {
     "data": {
      "text/html": [
       "<table>\n",
       "    <tr>\n",
       "        <th>year</th>\n",
       "        <th>Anzahl Messungen</th>\n",
       "    </tr>\n",
       "    <tr>\n",
       "        <td>2017</td>\n",
       "        <td>446</td>\n",
       "    </tr>\n",
       "    <tr>\n",
       "        <td>2018</td>\n",
       "        <td>3150</td>\n",
       "    </tr>\n",
       "    <tr>\n",
       "        <td>2019</td>\n",
       "        <td>2387</td>\n",
       "    </tr>\n",
       "    <tr>\n",
       "        <td>2020</td>\n",
       "        <td>461</td>\n",
       "    </tr>\n",
       "</table>"
      ],
      "text/plain": [
       "[(2017, 446), (2018, 3150), (2019, 2387), (2020, 461)]"
      ]
     },
     "execution_count": 13,
     "metadata": {},
     "output_type": "execute_result"
    }
   ],
   "source": [
    "%%sql\n",
    "\n",
    "select year, count(*) \"Anzahl Messungen\" from \n",
    "(\n",
    "    -- 1% der heißesten Tage\n",
    "    select *\n",
    "    from temp_hum_view\n",
    "    order by temperature desc\n",
    "    limit ((select count(*) from temp_hum_view) / 100)\n",
    ")\n",
    "group by year\n"
   ]
  },
  {
   "cell_type": "code",
   "execution_count": null,
   "metadata": {},
   "outputs": [],
   "source": []
  }
 ],
 "metadata": {
  "kernelspec": {
   "display_name": "Python 3",
   "language": "python",
   "name": "python3"
  },
  "language_info": {
   "codemirror_mode": {
    "name": "ipython",
    "version": 3
   },
   "file_extension": ".py",
   "mimetype": "text/x-python",
   "name": "python",
   "nbconvert_exporter": "python",
   "pygments_lexer": "ipython3",
   "version": "3.9.2"
  }
 },
 "nbformat": 4,
 "nbformat_minor": 4
}
